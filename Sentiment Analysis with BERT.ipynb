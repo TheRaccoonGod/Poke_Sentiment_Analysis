{
 "cells": [
  {
   "cell_type": "markdown",
   "id": "3808a19e",
   "metadata": {},
   "source": [
    "# Sentiment Analysis with BERT"
   ]
  },
  {
   "cell_type": "markdown",
   "id": "1616577f",
   "metadata": {},
   "source": [
    "### Importing libraries"
   ]
  },
  {
   "cell_type": "code",
   "execution_count": null,
   "id": "62d81332",
   "metadata": {},
   "outputs": [],
   "source": [
    "!pip install transformers"
   ]
  },
  {
   "cell_type": "code",
   "execution_count": 66,
   "id": "40301d57",
   "metadata": {},
   "outputs": [],
   "source": [
    "from pyspark.sql import SparkSession\n",
    "\n",
    "import torch\n",
    "import numpy as np\n",
    "import pandas as pd\n",
    "import seaborn as sns\n",
    "from transformers import BertTokenizer\n",
    "\n",
    "from torch.utils.data import TensorDataset, DataLoader, RandomSampler, SequentialSampler\n",
    "\n",
    "from transformers import BertForSequenceClassification, AdamW, get_linear_schedule_with_warmup\n",
    "from sklearn.metrics import classification_report"
   ]
  },
  {
   "cell_type": "markdown",
   "id": "d39f9a3e",
   "metadata": {},
   "source": [
    "### Data Sampling"
   ]
  },
  {
   "cell_type": "code",
   "execution_count": 55,
   "id": "d97cbfce",
   "metadata": {},
   "outputs": [
    {
     "name": "stderr",
     "output_type": "stream",
     "text": [
      "                                                                                \r"
     ]
    },
    {
     "name": "stdout",
     "output_type": "stream",
     "text": [
      "+--------------------+-----+\n",
      "|                text|stars|\n",
      "+--------------------+-----+\n",
      "|If you decide to ...|  3.0|\n",
      "|I've taken a lot ...|  5.0|\n",
      "|Family diner. Had...|  3.0|\n",
      "|Wow!  Yummy, diff...|  5.0|\n",
      "|Cute interior and...|  4.0|\n",
      "|I am a long term ...|  1.0|\n",
      "|Loved this tour! ...|  5.0|\n",
      "|Amazingly amazing...|  5.0|\n",
      "|This easter inste...|  3.0|\n",
      "|Had a party of 6 ...|  3.0|\n",
      "|My experience wit...|  5.0|\n",
      "|Locals recommende...|  4.0|\n",
      "|Love going here f...|  4.0|\n",
      "|Good food--loved ...|  4.0|\n",
      "|The bun makes the...|  4.0|\n",
      "|Great place for b...|  5.0|\n",
      "|Tremendous servic...|  5.0|\n",
      "|The hubby and I h...|  4.0|\n",
      "|I go to blow bar ...|  5.0|\n",
      "|My absolute favor...|  5.0|\n",
      "+--------------------+-----+\n",
      "only showing top 20 rows\n",
      "\n"
     ]
    },
    {
     "name": "stderr",
     "output_type": "stream",
     "text": [
      "                                                                                \r"
     ]
    },
    {
     "data": {
      "text/html": [
       "<div>\n",
       "<style scoped>\n",
       "    .dataframe tbody tr th:only-of-type {\n",
       "        vertical-align: middle;\n",
       "    }\n",
       "\n",
       "    .dataframe tbody tr th {\n",
       "        vertical-align: top;\n",
       "    }\n",
       "\n",
       "    .dataframe thead th {\n",
       "        text-align: right;\n",
       "    }\n",
       "</style>\n",
       "<table border=\"1\" class=\"dataframe\">\n",
       "  <thead>\n",
       "    <tr style=\"text-align: right;\">\n",
       "      <th></th>\n",
       "      <th>text</th>\n",
       "      <th>stars</th>\n",
       "    </tr>\n",
       "  </thead>\n",
       "  <tbody>\n",
       "    <tr>\n",
       "      <th>0</th>\n",
       "      <td>Here's an update for my further Comcast experi...</td>\n",
       "      <td>1.0</td>\n",
       "    </tr>\n",
       "    <tr>\n",
       "      <th>1</th>\n",
       "      <td>First of all, I think this might be my first Y...</td>\n",
       "      <td>5.0</td>\n",
       "    </tr>\n",
       "    <tr>\n",
       "      <th>2</th>\n",
       "      <td>I find it hard to believe there are so many pe...</td>\n",
       "      <td>1.0</td>\n",
       "    </tr>\n",
       "    <tr>\n",
       "      <th>3</th>\n",
       "      <td>This tour is one to take when you want to have...</td>\n",
       "      <td>3.0</td>\n",
       "    </tr>\n",
       "    <tr>\n",
       "      <th>4</th>\n",
       "      <td>Are you kidding me? This is without a doubt so...</td>\n",
       "      <td>5.0</td>\n",
       "    </tr>\n",
       "  </tbody>\n",
       "</table>\n",
       "</div>"
      ],
      "text/plain": [
       "                                                text  stars\n",
       "0  Here's an update for my further Comcast experi...    1.0\n",
       "1  First of all, I think this might be my first Y...    5.0\n",
       "2  I find it hard to believe there are so many pe...    1.0\n",
       "3  This tour is one to take when you want to have...    3.0\n",
       "4  Are you kidding me? This is without a doubt so...    5.0"
      ]
     },
     "execution_count": 55,
     "metadata": {},
     "output_type": "execute_result"
    }
   ],
   "source": [
    "spark = SparkSession.builder.appName(\"Data Sampling for BERT model\").getOrCreate()\n",
    "reviewsDF = spark.read.json(\"data/yelp_academic_dataset_review.json\")\n",
    "reviewsDF.createOrReplaceTempView(\"review\")\n",
    "\n",
    "filtered_df = spark.sql(\"\"\"\n",
    "                        SELECT text, stars\n",
    "                        FROM review\n",
    "                        \"\"\")\n",
    "\n",
    "filtered_df.show()\n",
    "sampled_df = filtered_df.sample(withReplacement = False, fraction = 10000/filtered_df.count(), seed = 4)\n",
    "\n",
    "pandasDF = sampled_df.toPandas()\n",
    "pandasDF.head()\n",
    "\n",
    "spark.stop()"
   ]
  },
  {
   "cell_type": "markdown",
   "id": "c5309a00",
   "metadata": {},
   "source": [
    "### BERT Tokenization"
   ]
  },
  {
   "cell_type": "code",
   "execution_count": 54,
   "id": "3baf7162",
   "metadata": {},
   "outputs": [
    {
     "name": "stdout",
     "output_type": "stream",
     "text": [
      "[SEP] 102\n",
      "[CLS] 101\n",
      "[PAD] 0\n",
      "[UNK] 100\n"
     ]
    }
   ],
   "source": [
    "# Separator token which lets BERT know the end of a sentence\n",
    "print(tokenizer.sep_token, tokenizer.sep_token_id)\n",
    "\n",
    "# Classification token which lets BERT know the beginning of a sentence\n",
    "print(tokenizer.cls_token, tokenizer.cls_token_id)\n",
    "\n",
    "# Padding token which is the filler for reviews that do not reach the max length to make inputs the same length\n",
    "print(tokenizer.pad_token, tokenizer.pad_token_id)\n",
    "\n",
    "# Unknown token to replace words that are not in BERT's vocabulary\n",
    "print(tokenizer.unk_token, tokenizer.unk_token_id)\n"
   ]
  },
  {
   "cell_type": "code",
   "execution_count": 79,
   "id": "061de4db",
   "metadata": {},
   "outputs": [
    {
     "name": "stderr",
     "output_type": "stream",
     "text": [
      "/var/folders/5m/n3lmdh1d5bl0t6d_1p3n_2wh0000gn/T/ipykernel_23130/1760395435.py:7: UserWarning: \n",
      "\n",
      "`distplot` is a deprecated function and will be removed in seaborn v0.14.0.\n",
      "\n",
      "Please adapt your code to use either `displot` (a figure-level function with\n",
      "similar flexibility) or `histplot` (an axes-level function for histograms).\n",
      "\n",
      "For a guide to updating your code to use the new functions, please see\n",
      "https://gist.github.com/mwaskom/de44147ed2974457ad6372750bbe5751\n",
      "\n",
      "  sns.distplot(token_lens)\n"
     ]
    },
    {
     "data": {
      "text/plain": [
       "<Axes: ylabel='Density'>"
      ]
     },
     "execution_count": 79,
     "metadata": {},
     "output_type": "execute_result"
    },
    {
     "data": {
      "image/png": "[encoded data removed]",
      "text/plain": [
       "<Figure size 640x480 with 1 Axes>"
      ]
     },
     "metadata": {},
     "output_type": "display_data"
    }
   ],
   "source": [
    "token_lens = []\n",
    "\n",
    "for text in pandasDF.text:\n",
    "    tokens = tokenizer.encode(text, max_length = 1000)\n",
    "    token_lens.append(len(tokens))\n",
    "    \n",
    "sns.distplot(token_lens)"
   ]
  },
  {
   "cell_type": "markdown",
   "id": "d25398d5",
   "metadata": {},
   "source": [
    "Based on the distplot, we will pick a max_length of around 400 tokens."
   ]
  },
  {
   "cell_type": "code",
   "execution_count": 72,
   "id": "75e84297",
   "metadata": {},
   "outputs": [
    {
     "name": "stderr",
     "output_type": "stream",
     "text": [
      "Truncation was not explicitly activated but `max_length` is provided a specific value, please use `truncation=True` to explicitly truncate examples to max length. Defaulting to 'longest_first' truncation strategy. If you encode pairs of sequences (GLUE-style) with the tokenizer you can select this strategy more precisely by providing a specific strategy to `truncation`.\n"
     ]
    }
   ],
   "source": [
    "tokenizer = transformers.BertTokenizer.from_pretrained('bert-base-uncased')\n",
    "\n",
    "texts = pandasDF['text'].tolist()\n",
    "labels = pandasDF['stars'].tolist()\n",
    "\n",
    "# List of token IDs representing the actual words in input\n",
    "tokenizedId = []\n",
    "\n",
    "# This tells BERT which parts it pay attention to by ignoring all the PAD(filler) tokens\n",
    "tokenizedMask = []\n",
    "\n",
    "# Encoding/tokenizing every review\n",
    "for text in texts:\n",
    "    encoded = tokenizer.encode_plus(\n",
    "        text,\n",
    "        max_length= 400,\n",
    "        add_special_tokens= True,\n",
    "        pad_to_max_length= True,\n",
    "        return_attention_mask= True,\n",
    "        return_tensors='pt'\n",
    "    )\n",
    "    \n",
    "    tokenizedId.append(encoded['input_ids'])\n",
    "    tokenizedMask.append(encoded['attention_mask'])"
   ]
  },
  {
   "cell_type": "code",
   "execution_count": 80,
   "id": "47e05b49",
   "metadata": {
    "scrolled": false
   },
   "outputs": [
    {
     "name": "stdout",
     "output_type": "stream",
     "text": [
      "tensor([  101,  2034,  1997,  2035,  1010,  1045,  2228,  2023,  2453,  2022,\n",
      "         2026,  2034,  6300, 14277,  3319,  2055,  1000,  3435,  2833,  1012,\n",
      "         1000,  2009,  1005,  1055,  2025,  1037,  6907,  1045,  2412,  4521,\n",
      "         4983,  1045,  1005,  1049,  3140,  2000,  2006,  1037,  2346,  4440,\n",
      "         1012,  2174,  1010,  1045,  2572,  2013,  6901,  1010,  6396,  1010,\n",
      "         1998,  2572,  1037,  7975,  1011,  4344,  9530,  3630, 23491,  3126,\n",
      "         1010,  2061,  1045,  2787,  2000,  2507,  2023,  2173,  1037,  3382,\n",
      "         1012,  5678,  1010,  2009,  2001,  2006,  1037,  2346,  4440,  1997,\n",
      "        11901,  1012,  2057,  2018,  2042,  2012,  1996,  3509,  2035,  2154,\n",
      "         1998,  2020,  8576,  2067,  2188,  2000,  2430,  9925,  1012,  1996,\n",
      "         2326,  2003,  6429,   999,  1045,  2031,  2196,  2464,  3435,  1011,\n",
      "         2833,  3667,  2040,  2202,  2061,  2172,  6620,  1999,  2037,  5841,\n",
      "         1012,  2122,  2111,  2020,  5948,  1996, 23564,  2595,  3762,  1005,\n",
      "         1055,  4658,  1011,  4681,   999,  2027,  2790,  2062,  2066,  6373,\n",
      "         5126,  2084,  3435,  1011,  2833,  3667,  1012,  2119,  1037,  2931,\n",
      "         4675, 14891,  1998,  1037,  3287,  1006,  2825,  1996,  3208,  1013,\n",
      "         6329,  2063,  1007,  2253,  2041,  1997,  2037,  2126,  2000,  2191,\n",
      "         2469,  2057,  4669,  2673,  1012,  1996,  2833,  2001,  1037,  5024,\n",
      "         1018,  3340,  1010,  2021,  2026,  3319,  3452,  2003,  8352,  2039,\n",
      "         2005,  1996,  2682,  3855,  2685,  1012,  2057,  2018,  1996,  7975,\n",
      "         4344, 22094,  2006,  3146, 15174,  1012,  2096,  1996,  7975,  3093,\n",
      "         3209,  2020,  3565, 28900,  1998, 11052,  1010,  1996,  3146, 15174,\n",
      "         2001,  2205, 26484,  2000,  4521,  2068,  2006,  1012,  1045,  2293,\n",
      "        12901,  1998,  5632,  1996,  3528,  1012,  2057,  2699,  1996, 23564,\n",
      "         2595,  1010,  2980,  6861, 23187,  1010,  9577,  2980,  1998,  8086,\n",
      "         1012,  2054,  2003,  4394,  2013,  1996, 12901,  3528,  1010,  2005,\n",
      "         2033,  1010,  2003,  1037, 25482, 22861,  4160,  1998,  2630,  8808,\n",
      "         1012,  3529,  8086,  2007,  2980, 12901,  2003,  2019, 15301,  2000,\n",
      "         1996, 12455,  1999,  6901,  2008,  2580,  1996, 12846,  1012,  4998,\n",
      "         2013,  1996,  7852,  1998, 12901,  2235,  3314,  1010,  1045,  2428,\n",
      "         5632,  2256,  7954,  1012,  5678,  1010,  2009,  2001,  2061, 10036,\n",
      "          999,   999,  1002,  2260,  1998,  2689,  2005,  1016, 12278,  2007,\n",
      "         8974,  1012,  1045,  2572,  1037,  5470,   999,  2023,  2173,  2987,\n",
      "         1005,  1056,  3243,  2718,  2035,  1996,  6017,  1997,  6901,  1011,\n",
      "         4427,  2833,  1010,  2021,  2009,  2515,  1037,  3492,  2204,  3105,\n",
      "         1997,  5128,  1037,  2670,  9792,  2006,  7975,  3093,   999,   102,\n",
      "            0,     0,     0,     0,     0,     0,     0,     0,     0,     0,\n",
      "            0,     0,     0,     0,     0,     0,     0,     0,     0,     0,\n",
      "            0,     0,     0,     0,     0,     0,     0,     0,     0,     0,\n",
      "            0,     0,     0,     0,     0,     0,     0,     0,     0,     0])\n",
      "tensor([1, 1, 1, 1, 1, 1, 1, 1, 1, 1, 1, 1, 1, 1, 1, 1, 1, 1, 1, 1, 1, 1, 1, 1,\n",
      "        1, 1, 1, 1, 1, 1, 1, 1, 1, 1, 1, 1, 1, 1, 1, 1, 1, 1, 1, 1, 1, 1, 1, 1,\n",
      "        1, 1, 1, 1, 1, 1, 1, 1, 1, 1, 1, 1, 1, 1, 1, 1, 1, 1, 1, 1, 1, 1, 1, 1,\n",
      "        1, 1, 1, 1, 1, 1, 1, 1, 1, 1, 1, 1, 1, 1, 1, 1, 1, 1, 1, 1, 1, 1, 1, 1,\n",
      "        1, 1, 1, 1, 1, 1, 1, 1, 1, 1, 1, 1, 1, 1, 1, 1, 1, 1, 1, 1, 1, 1, 1, 1,\n",
      "        1, 1, 1, 1, 1, 1, 1, 1, 1, 1, 1, 1, 1, 1, 1, 1, 1, 1, 1, 1, 1, 1, 1, 1,\n",
      "        1, 1, 1, 1, 1, 1, 1, 1, 1, 1, 1, 1, 1, 1, 1, 1, 1, 1, 1, 1, 1, 1, 1, 1,\n",
      "        1, 1, 1, 1, 1, 1, 1, 1, 1, 1, 1, 1, 1, 1, 1, 1, 1, 1, 1, 1, 1, 1, 1, 1,\n",
      "        1, 1, 1, 1, 1, 1, 1, 1, 1, 1, 1, 1, 1, 1, 1, 1, 1, 1, 1, 1, 1, 1, 1, 1,\n",
      "        1, 1, 1, 1, 1, 1, 1, 1, 1, 1, 1, 1, 1, 1, 1, 1, 1, 1, 1, 1, 1, 1, 1, 1,\n",
      "        1, 1, 1, 1, 1, 1, 1, 1, 1, 1, 1, 1, 1, 1, 1, 1, 1, 1, 1, 1, 1, 1, 1, 1,\n",
      "        1, 1, 1, 1, 1, 1, 1, 1, 1, 1, 1, 1, 1, 1, 1, 1, 1, 1, 1, 1, 1, 1, 1, 1,\n",
      "        1, 1, 1, 1, 1, 1, 1, 1, 1, 1, 1, 1, 1, 1, 1, 1, 1, 1, 1, 1, 1, 1, 1, 1,\n",
      "        1, 1, 1, 1, 1, 1, 1, 1, 1, 1, 1, 1, 1, 1, 1, 1, 1, 1, 1, 1, 1, 1, 1, 1,\n",
      "        1, 1, 1, 1, 1, 1, 1, 1, 1, 1, 1, 1, 1, 1, 1, 1, 1, 1, 1, 1, 1, 1, 1, 1,\n",
      "        0, 0, 0, 0, 0, 0, 0, 0, 0, 0, 0, 0, 0, 0, 0, 0, 0, 0, 0, 0, 0, 0, 0, 0,\n",
      "        0, 0, 0, 0, 0, 0, 0, 0, 0, 0, 0, 0, 0, 0, 0, 0])\n",
      "tensor(5.)\n"
     ]
    }
   ],
   "source": [
    "print(tokenizedId[1])\n",
    "print(tokenizedMask[1])\n",
    "print(labels[1])"
   ]
  },
  {
   "cell_type": "markdown",
   "id": "9b923410",
   "metadata": {},
   "source": [
    "### Creating Data Loader"
   ]
  },
  {
   "cell_type": "code",
   "execution_count": null,
   "id": "4cd1dc15",
   "metadata": {},
   "outputs": [],
   "source": []
  }
 ],
 "metadata": {
  "kernelspec": {
   "display_name": "Python 3 (ipykernel)",
   "language": "python",
   "name": "python3"
  },
  "language_info": {
   "codemirror_mode": {
    "name": "ipython",
    "version": 3
   },
   "file_extension": ".py",
   "mimetype": "text/x-python",
   "name": "python",
   "nbconvert_exporter": "python",
   "pygments_lexer": "ipython3",
   "version": "3.11.5"
  }
 },
 "nbformat": 4,
 "nbformat_minor": 5
}
